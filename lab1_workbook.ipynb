{
 "cells": [
  {
   "cell_type": "markdown",
   "metadata": {
    "colab_type": "text",
    "id": "view-in-github"
   },
   "source": [
    "<a href=\"https://colab.research.google.com/github/lsuhpchelp/lbrnloniworkshop2019/blob/master/day1_python/intro_python.ipynb\" target=\"_parent\"><img src=\"https://colab.research.google.com/assets/colab-badge.svg\" alt=\"Open In Colab\"/></a>"
   ]
  },
  {
   "cell_type": "markdown",
   "metadata": {
    "colab_type": "text",
    "id": "u1YDPNtbdHDj"
   },
   "source": [
    "\n",
    " #  Introduction to Python Programming\n",
    "\n",
    "## PETE 2061 Lab 1 Workbook \n",
    "\n",
    "## THIS LAB IS DUE BEFORE YOU LEAVE THE ROOM!!\n",
    "\n",
    "<a id='top'></a>"
   ]
  },
  {
   "cell_type": "markdown",
   "metadata": {
    "colab_type": "text",
    "id": "krWd44XodHDp"
   },
   "source": [
    "<a id='variables'></a>\n",
    "## Volumetric Reserves Estimation\n",
    "The Stock-tank Oil Initially In Place (STOIIP) is the amount of oil that is stored in an oil reservoir. Assuming that the pore spaces in the reservoir are filled with water and oil only, the STOIIP can be estimated using the formula:<br><br>\n",
    "$STOIIP = 7758 Ah\\phi(1-S_{wi})/B_{oi}$ <br><br>\n",
    "where $A$ is the area of the reservoir in acres, <br>\n",
    "$h$ is the reservoir thickness in feet (ft), <br>\n",
    "$S_{wi}$ is the initial water saturation of the reservoir. It is the ratio of the volume of water initially in the reservoir to the total pore volume in the reservoir. It can either be expressed as a fraction or percentage. <br>\n",
    "$B_{oi}$ is the initial oil formation volume factor. It is the ratio of the volume of oil at reservoir conditions (measured in units of reservoir barrels, rb) to the volume of oil at standard conditions (measured in units of stock tank barrels, stb). This means that the unit of $B_{oi}$ is $\\frac{rb}{stb}$ <br>\n",
    "$\\phi$ is the porosity of the reservoir. It is the ratio of the pore volume to the bulk volume, and can be expressed as a fraction or in percentage.\n",
    "7758 is the conversion factor from acre-ft to barrels (bbl or rb) <br><br>\n",
    "NOTE: You should be able to show that the unit of STOIIP from this equation is stb. <br>\n",
    "\n",
    "1. Given the values below, write a Python code that calculates and stores the STOIIP into a variable named \"stoiip\", and then prints the STOIIP value. <br>\n",
    "A = 250  $\\hspace{22pt}$ # in acres (store this value in a variable called \"area\")<br>\n",
    "h = 50 $\\hspace{27pt}$ # in feet (store this value in a variable called \"h\") <br>\n",
    "$\\phi$ = 0.33 $\\hspace{19pt}$ # fraction (store this value in a variable called \"poro\")<br>\n",
    "$S_{wi}$ = 0.25 $\\hspace{15pt}$ # fraction (store this value in a variable called \"s_wi\")<br>\n",
    "$B_{oi}$ = 1.1 $\\hspace{19pt}$ # rb/stb (store this value in a variable called \"b_oi\")<br>\n"
   ]
  },
  {
   "cell_type": "code",
   "execution_count": 9,
   "metadata": {},
   "outputs": [
    {
     "name": "stdout",
     "output_type": "stream",
     "text": [
      "21819375.0 stb\n"
     ]
    }
   ],
   "source": [
    "area = 250 #in acres\n",
    "h = 50 #in feet\n",
    "poro = 0.33 #fraction\n",
    "s_wi = 0.25 #fraction\n",
    "b_oi = 1.1 #rb/stb\n",
    "x = 7758\n",
    "y= 1\n",
    "stoiip = (x*area*h*poro*(y-s_wi)/b_oi)\n",
    "print(f\"{stoiip} stb\")"
   ]
  },
  {
   "cell_type": "markdown",
   "metadata": {},
   "source": [
    "2. The bulk volume of the reservoir (BV or $V_b$) in units of acre-ft is given as: <br>\n",
    "BV = Ah <br>\n",
    "Write a Python code that computes and stores the BV in a variable called \"bv_acreft\". Print this variable <br>"
   ]
  },
  {
   "cell_type": "code",
   "execution_count": 16,
   "metadata": {},
   "outputs": [
    {
     "name": "stdout",
     "output_type": "stream",
     "text": [
      "12500 acre-ft\n"
     ]
    }
   ],
   "source": [
    "area = 250 #in acres\n",
    "h = 50 #in feet\n",
    "bv_acreft = (area*h)\n",
    "print(f\"{bv_acreft} acre-ft\")\n"
   ]
  },
  {
   "cell_type": "markdown",
   "metadata": {},
   "source": [
    "3. Write a Python code to convert the BV from (2) above to barrels (rb) using the given conversion factor, and store this in a variable called \"bv_rb\". Print this variable <br>"
   ]
  },
  {
   "cell_type": "code",
   "execution_count": 19,
   "metadata": {},
   "outputs": [
    {
     "name": "stdout",
     "output_type": "stream",
     "text": [
      "96975000 rb\n"
     ]
    }
   ],
   "source": [
    "bv_acreft = 12500 #in acre-ft\n",
    "bv_rb = (7758*bv_acreft) #in rb\n",
    "print(f\"{bv_rb} rb\")"
   ]
  },
  {
   "cell_type": "markdown",
   "metadata": {},
   "source": [
    "4. The pore volume of the reservoir is the total volume available available to store fluids in the reservoir. It is the product of the bulk volume and porosity.<br>\n",
    "Write a Python code to compute the pore volume of the reservoir in acre-ft and in rb, and store these in the variables \"v_p_acreft\" and \"v_p_rb\" respectively. Print these two variables in one print statement<br>"
   ]
  },
  {
   "cell_type": "code",
   "execution_count": 6,
   "metadata": {},
   "outputs": [
    {
     "name": "stdout",
     "output_type": "stream",
     "text": [
      "4125.0 acre-ft 32001750.0 rb\n"
     ]
    }
   ],
   "source": [
    "bv_acreft = 12500 #in acre-ft\n",
    "bv_rb = 96975000 #in rb\n",
    "poro = 0.33\n",
    "v_p_acreft = (bv_acreft*poro) #in acre-ft\n",
    "v_p_rb = (bv_rb*poro)\n",
    "print(f\"{v_p_acreft} acre-ft {v_p_rb} rb\") \n",
    "\n",
    "\n"
   ]
  },
  {
   "cell_type": "markdown",
   "metadata": {},
   "source": [
    "5. The hydrocarbon pore volume (HCPV) in units of rb is the product of the pore volume in rb and initial oil saturation (which is 1-$S_{wi}$, because the reservoir contains oil and water only). The HCPV is given as: <br>\n",
    "$HCPV = 7758 Ah\\phi(1-S_{wi})$ <br>\n",
    "Write a Python code that computes and stores the HCPV (in rb) in a variable called \"hcpv\". Print this variable <br>"
   ]
  },
  {
   "cell_type": "code",
   "execution_count": 7,
   "metadata": {},
   "outputs": [
    {
     "name": "stdout",
     "output_type": "stream",
     "text": [
      "24001312.5 rb\n"
     ]
    }
   ],
   "source": [
    "area = 250 #in acres\n",
    "h = 50 #in feet\n",
    "poro = 0.33 #fraction\n",
    "s_wi = 0.25 #fraction\n",
    "hcpv = (7758*area*h*poro*(1-s_wi)) #in rb\n",
    "print(f\"{hcpv} rb\")"
   ]
  },
  {
   "cell_type": "markdown",
   "metadata": {},
   "source": [
    "6. Two other reservoirs (reservoir B and reservoir C) have identical parameters with the first reservoir (reservoir A) but with porosity values 0.25 and 0.35, respectively. <br>\n",
    "    * Write one line of Python code to assign these two porosity values to variables \"poro_B\" and \"poro_C\", respectively.\n",
    "    * Write a Python code to compute the STOIIP values of reservoirs B and C. Store these in variables \"stoiip_B\" and stoiip_C\", respectively.\n",
    "    * Write a Python code to compute the (arithmetic) mean of the STOIIPs of these 3 reservoirs.\n",
    "    * Write a print statement that uses the greater than operator to compare the STOIIP of reservoir B to that of reservoir C.<br> *Hint: print(STOIIP_B!=STOIIP_C) will test if STOIIP_B is not equal to STOIIP_C. This question asks you to test if STOIIP_B is greater than STOIIP_C.*\n",
    "    * Write a python code that adds 10% of the STOIIP of reservoir B to its original value, using the \"+=\" operator\n",
    "    * Write a fast python code that updates the STOIIP of reservoir C to 90% of its original value"
   ]
  },
  {
   "cell_type": "code",
   "execution_count": 16,
   "metadata": {},
   "outputs": [],
   "source": [
    "poro_B,poro_C = 0.25,0.35"
   ]
  },
  {
   "cell_type": "code",
   "execution_count": 17,
   "metadata": {
    "scrolled": true
   },
   "outputs": [
    {
     "name": "stdout",
     "output_type": "stream",
     "text": [
      "21819375.0 stb\n",
      "16529829.545454545 stb\n",
      "23141761.363636363 stb\n"
     ]
    }
   ],
   "source": [
    "area = 250 #in acres\n",
    "h = 50 #in feet\n",
    "poro_A = 0.33 #fraction\n",
    "poro_B = 0.25 #fraction\n",
    "poro_C = 0.35 #fraction\n",
    "s_wi = 0.25 #fraction\n",
    "b_oi = 1.1 #rb/stb\n",
    "x = 7758\n",
    "y=1\n",
    "stoiip_A = (x*area*h*poro_A*(y-s_wi)/b_oi) #in stb\n",
    "stoiip_B = (x*area*h*poro_B*(y-s_wi)/b_oi) #in stb\n",
    "stoiip_C = (x*area*h*poro_C*(y-s_wi)/b_oi) #in stb\n",
    "print(f\"{stoiip_A} stb\")\n",
    "print(f\"{stoiip_B} stb\")\n",
    "print(f\"{stoiip_C} stb\")"
   ]
  },
  {
   "cell_type": "code",
   "execution_count": 19,
   "metadata": {},
   "outputs": [
    {
     "name": "stdout",
     "output_type": "stream",
     "text": [
      "20496988.636363637 stb\n"
     ]
    }
   ],
   "source": [
    "print(f\"{(21819375+16529829.545454545+23141761.363636363)/3} stb\")"
   ]
  },
  {
   "cell_type": "code",
   "execution_count": 21,
   "metadata": {},
   "outputs": [
    {
     "name": "stdout",
     "output_type": "stream",
     "text": [
      "False\n"
     ]
    }
   ],
   "source": [
    "stoiip_B = 16529829.545454545 #in stb\n",
    "stoiip_C = 23141761.363636363 #in stb\n",
    "print(stoiip_B>=stoiip_C)"
   ]
  },
  {
   "cell_type": "code",
   "execution_count": 24,
   "metadata": {
    "scrolled": true
   },
   "outputs": [
    {
     "name": "stdout",
     "output_type": "stream",
     "text": [
      "18182812.5 stb\n"
     ]
    }
   ],
   "source": [
    "area = 250 #in acres\n",
    "h = 50 #in feet\n",
    "poro_B = 0.25 #fraction\n",
    "s_wi = 0.25 #fraction\n",
    "b_oi = 1.1 #rb/stb\n",
    "x = 7758\n",
    "y=1\n",
    "stoiip_B = (x*area*h*poro_B*(y-s_wi)/b_oi) #in stb\n",
    "print(f\"{stoiip_B+(stoiip_B*0.1)} stb\")"
   ]
  },
  {
   "cell_type": "code",
   "execution_count": 1,
   "metadata": {},
   "outputs": [
    {
     "name": "stdout",
     "output_type": "stream",
     "text": [
      "20827585.227272727 stb\n"
     ]
    }
   ],
   "source": [
    "stoiip_C = 23141761.363636363 #in stb\n",
    "print(f\"{(stoiip_C*0.9)} stb\") #in stb"
   ]
  }
 ],
 "metadata": {
  "colab": {
   "collapsed_sections": [
    "sYQs3O-6dHFb",
    "8sIJ4A57dHFk",
    "_73RPOcBdHFn",
    "h9s2tfPcdHFo",
    "zt4YHVYPdHGR"
   ],
   "include_colab_link": true,
   "name": "Copy of intro-python-colab.ipynb",
   "provenance": [],
   "version": "0.3.2"
  },
  "kernelspec": {
   "display_name": "Python 3",
   "language": "python",
   "name": "python3"
  },
  "language_info": {
   "codemirror_mode": {
    "name": "ipython",
    "version": 3
   },
   "file_extension": ".py",
   "mimetype": "text/x-python",
   "name": "python",
   "nbconvert_exporter": "python",
   "pygments_lexer": "ipython3",
   "version": "3.7.3"
  }
 },
 "nbformat": 4,
 "nbformat_minor": 1
}
