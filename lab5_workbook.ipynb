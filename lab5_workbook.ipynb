{
 "cells": [
  {
   "cell_type": "markdown",
   "metadata": {
    "colab_type": "text",
    "id": "u1YDPNtbdHDj"
   },
   "source": [
    "\n",
    "#  Probability\n",
    "\n",
    "## PETE 2061 Lab 5 Workbook \n",
    "\n",
    "## THIS IS DUE BY 11:59 PM ON SUNDAY (Sept 29, 2019)"
   ]
  },
  {
   "cell_type": "markdown",
   "metadata": {},
   "source": [
    "1. Paste the url (or link) to the pete2061 folder in your github account in the \"marked down\" cell below. <br>"
   ]
  },
  {
   "cell_type": "markdown",
   "metadata": {},
   "source": [
    "https://github.com/sdong4/pete2061"
   ]
  },
  {
   "cell_type": "markdown",
   "metadata": {},
   "source": [
    "2. **Using the example in \"lab5_Probability.ipynb\", write a Python code to compute the probabililities of all possible total values that can be obtained from rolling a fair die three times**"
   ]
  },
  {
   "cell_type": "code",
   "execution_count": null,
   "metadata": {},
   "outputs": [],
   "source": [
    "import itertools\n",
    "numList = list(range(1,7))\n",
    "resultList1 = list(itertools.product(numList,repeat=3))\n",
    "print(f\"Total number of outcomes = {len(resultList1)}\")\n",
    "\n",
    "import numpy as np\n",
    "import pandas as pd\n",
    "resultArray = np.array(resultList1)\n",
    "sumOutcomes = np.sum(resultArray, axis=1)\n",
    "df1 = pd.DataFrame({\"outcomes\":resultList1,\"sumOutcomes\":sumOutcomes})\n",
    "df1\n",
    "\n",
    "by_sumOutcomes = df1.groupby(\"sumOutcomes\")\n",
    "#by_sumOutcomes.describe()\n",
    "outcomeDF = by_sumOutcomes.count()\n",
    "outcomes = outcomeDF.values[:,0]\n",
    "probability = outcomes / np.sum(outcomes)\n",
    "newDF = pd.DataFrame({\"sum\":list(range(3,19)), \"outcomes\":outcomes, \"probability\":probability})\n",
    "newDF"
   ]
  },
  {
   "cell_type": "code",
   "execution_count": null,
   "metadata": {},
   "outputs": [],
   "source": [
    "import itertools\n",
    "import numpy as np\n",
    "n= int(input())\n",
    "numList = list(range(1,7))\n",
    "resultList1 = list(itertools.product(numList,repeat=n))\n",
    "print(f\"Total number of outcomes = {len(resultList1)}\")\n",
    "\n",
    "import pandas as pd\n",
    "resultArray = np.array(resultList1)\n",
    "sumOutcomes = np.sum(resultArray, axis=1)\n",
    "df1 = pd.DataFrame({\"outcomes\":resultList1,\"sumOutcomes\":sumOutcomes})\n",
    "df1\n",
    "\n",
    "OutcomeMax = (6*n)+1\n",
    "\n",
    "by_sumOutcomes = df1.groupby(\"sumOutcomes\")\n",
    "outcomeDF = by_sumOutcomes.count()\n",
    "outcomes = outcomeDF.values[:,0]\n",
    "probability = outcomes / np.sum(outcomes)\n",
    "newDF = pd.DataFrame({\"sum\":list(range(n,OutcomeMax)), \"outcomes\":outcomes, \"probability\":probability})\n",
    "newDF"
   ]
  },
  {
   "cell_type": "code",
   "execution_count": null,
   "metadata": {},
   "outputs": [],
   "source": []
  }
 ],
 "metadata": {
  "colab": {
   "collapsed_sections": [
    "sYQs3O-6dHFb",
    "8sIJ4A57dHFk",
    "_73RPOcBdHFn",
    "h9s2tfPcdHFo",
    "zt4YHVYPdHGR"
   ],
   "include_colab_link": true,
   "name": "Copy of intro-python-colab.ipynb",
   "provenance": [],
   "version": "0.3.2"
  },
  "kernelspec": {
   "display_name": "Python 3",
   "language": "python",
   "name": "python3"
  },
  "language_info": {
   "codemirror_mode": {
    "name": "ipython",
    "version": 3
   },
   "file_extension": ".py",
   "mimetype": "text/x-python",
   "name": "python",
   "nbconvert_exporter": "python",
   "pygments_lexer": "ipython3",
   "version": "3.7.3"
  }
 },
 "nbformat": 4,
 "nbformat_minor": 1
}
